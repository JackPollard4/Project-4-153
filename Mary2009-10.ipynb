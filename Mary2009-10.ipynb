{
 "cells": [
  {
   "cell_type": "markdown",
   "id": "2949d85f-1636-44fa-8f7d-0a705d3a5b1d",
   "metadata": {},
   "source": [
    "# **Project 3: Team Norman Borlaug**"
   ]
  },
  {
   "cell_type": "markdown",
   "id": "b5779422-341b-45cf-bffa-cd5d0b88978c",
   "metadata": {},
   "source": [
    "## **2009-10** File"
   ]
  },
  {
   "cell_type": "markdown",
   "id": "fd94011a-8fca-4bdd-a2c0-c6de04909bdc",
   "metadata": {},
   "source": [
    "#### Group Members:\n",
    "> Mary  -  marylaska@berkeley.edu <br>\n",
    "> Jack - jackpollard@berkeley.edu<br>\n",
    "> Jocelyn - jocelynvelazquez@berkeley.edu <br>\n",
    "> Vivian - yumeng.zhang0502@berkeley.edu <br>\n",
    "> Steven -  k1519632@berkeley.edu <br>\n"
   ]
  },
  {
   "cell_type": "markdown",
   "id": "ba5ea149-1ec9-4339-a14a-f2fcd3689deb",
   "metadata": {},
   "source": [
    "## Project Setup"
   ]
  },
  {
   "cell_type": "code",
   "execution_count": 24,
   "id": "20790273-96b7-418d-bf02-39cdd4be592f",
   "metadata": {},
   "outputs": [],
   "source": [
    "#import packages"
   ]
  },
  {
   "cell_type": "code",
   "execution_count": 1,
   "id": "b2f9aebd-059b-432f-a9f0-039bda36028f",
   "metadata": {},
   "outputs": [
    {
     "name": "stdout",
     "output_type": "stream",
     "text": [
      "Collecting CFEDemands>=0.6.3.dev0 (from -r requirements.txt (line 5))\n",
      "  Using cached cfedemands-0.6.4.dev0-py2.py3-none-any.whl.metadata (1.6 kB)\n",
      "Requirement already satisfied: ConsumerDemands>=0.4.3.dev0 in /srv/conda/lib/python3.11/site-packages (from -r requirements.txt (line 7)) (0.4.3.dev0)\n",
      "Requirement already satisfied: matplotlib>=3.3.4 in /srv/conda/lib/python3.11/site-packages (from -r requirements.txt (line 10)) (3.10.1)\n",
      "Requirement already satisfied: numpy>=1.21.5 in /srv/conda/lib/python3.11/site-packages (from -r requirements.txt (line 14)) (2.2.4)\n",
      "Requirement already satisfied: pandas>=1.3.5 in /srv/conda/lib/python3.11/site-packages (from -r requirements.txt (line 20)) (2.2.3)\n",
      "Requirement already satisfied: plotly>=5.1.0 in /srv/conda/lib/python3.11/site-packages (from -r requirements.txt (line 23)) (6.0.1)\n",
      "Requirement already satisfied: eep153_tools>=0.11 in /srv/conda/lib/python3.11/site-packages (from -r requirements.txt (line 25)) (0.12.4)\n",
      "Requirement already satisfied: python-gnupg in /srv/conda/lib/python3.11/site-packages (from -r requirements.txt (line 26)) (0.5.4)\n",
      "Requirement already satisfied: gspread_pandas>=3.3 in /srv/conda/lib/python3.11/site-packages (from -r requirements.txt (line 28)) (3.3.0)\n",
      "Requirement already satisfied: scikit-learn in /srv/conda/lib/python3.11/site-packages (from -r requirements.txt (line 30)) (1.6.0)\n",
      "Requirement already satisfied: xarray in /srv/conda/lib/python3.11/site-packages (from -r requirements.txt (line 31)) (2025.1.1)\n",
      "Requirement already satisfied: scipy>=1.7.3 in /srv/conda/lib/python3.11/site-packages (from CFEDemands>=0.6.3.dev0->-r requirements.txt (line 5)) (1.14.1)\n",
      "Requirement already satisfied: importlib_metadata>=6.7.0 in /srv/conda/lib/python3.11/site-packages (from CFEDemands>=0.6.3.dev0->-r requirements.txt (line 5)) (8.6.1)\n",
      "Requirement already satisfied: fsspec in /srv/conda/lib/python3.11/site-packages (from CFEDemands>=0.6.3.dev0->-r requirements.txt (line 5)) (2025.3.2)\n",
      "Requirement already satisfied: contourpy>=1.0.1 in /srv/conda/lib/python3.11/site-packages (from matplotlib>=3.3.4->-r requirements.txt (line 10)) (1.3.1)\n",
      "Requirement already satisfied: cycler>=0.10 in /srv/conda/lib/python3.11/site-packages (from matplotlib>=3.3.4->-r requirements.txt (line 10)) (0.12.1)\n",
      "Requirement already satisfied: fonttools>=4.22.0 in /srv/conda/lib/python3.11/site-packages (from matplotlib>=3.3.4->-r requirements.txt (line 10)) (4.56.0)\n",
      "Requirement already satisfied: kiwisolver>=1.3.1 in /srv/conda/lib/python3.11/site-packages (from matplotlib>=3.3.4->-r requirements.txt (line 10)) (1.4.7)\n",
      "Requirement already satisfied: packaging>=20.0 in /srv/conda/lib/python3.11/site-packages (from matplotlib>=3.3.4->-r requirements.txt (line 10)) (24.2)\n",
      "Requirement already satisfied: pillow>=8 in /srv/conda/lib/python3.11/site-packages (from matplotlib>=3.3.4->-r requirements.txt (line 10)) (11.1.0)\n",
      "Requirement already satisfied: pyparsing>=2.3.1 in /srv/conda/lib/python3.11/site-packages (from matplotlib>=3.3.4->-r requirements.txt (line 10)) (3.2.3)\n",
      "Requirement already satisfied: python-dateutil>=2.7 in /srv/conda/lib/python3.11/site-packages (from matplotlib>=3.3.4->-r requirements.txt (line 10)) (2.9.0.post0)\n",
      "Requirement already satisfied: pytz>=2020.1 in /srv/conda/lib/python3.11/site-packages (from pandas>=1.3.5->-r requirements.txt (line 20)) (2024.1)\n",
      "Requirement already satisfied: tzdata>=2022.7 in /srv/conda/lib/python3.11/site-packages (from pandas>=1.3.5->-r requirements.txt (line 20)) (2025.2)\n",
      "Requirement already satisfied: narwhals>=1.15.1 in /srv/conda/lib/python3.11/site-packages (from plotly>=5.1.0->-r requirements.txt (line 23)) (1.33.0)\n",
      "Requirement already satisfied: gspread<6,>=5.0.0 in /srv/conda/lib/python3.11/site-packages (from gspread_pandas>=3.3->-r requirements.txt (line 28)) (5.12.4)\n",
      "Requirement already satisfied: decorator in /srv/conda/lib/python3.11/site-packages (from gspread_pandas>=3.3->-r requirements.txt (line 28)) (5.1.1)\n",
      "Requirement already satisfied: google-auth in /srv/conda/lib/python3.11/site-packages (from gspread_pandas>=3.3->-r requirements.txt (line 28)) (2.38.0)\n",
      "Requirement already satisfied: google-auth-oauthlib in /srv/conda/lib/python3.11/site-packages (from gspread_pandas>=3.3->-r requirements.txt (line 28)) (1.2.1)\n",
      "Requirement already satisfied: joblib>=1.2.0 in /srv/conda/lib/python3.11/site-packages (from scikit-learn->-r requirements.txt (line 30)) (1.4.2)\n",
      "Requirement already satisfied: threadpoolctl>=3.1.0 in /srv/conda/lib/python3.11/site-packages (from scikit-learn->-r requirements.txt (line 30)) (3.6.0)\n",
      "Requirement already satisfied: cachetools<6.0,>=2.0.0 in /srv/conda/lib/python3.11/site-packages (from google-auth->gspread_pandas>=3.3->-r requirements.txt (line 28)) (5.5.2)\n",
      "Requirement already satisfied: pyasn1-modules>=0.2.1 in /srv/conda/lib/python3.11/site-packages (from google-auth->gspread_pandas>=3.3->-r requirements.txt (line 28)) (0.4.2)\n",
      "Requirement already satisfied: rsa<5,>=3.1.4 in /srv/conda/lib/python3.11/site-packages (from google-auth->gspread_pandas>=3.3->-r requirements.txt (line 28)) (4.9)\n",
      "Requirement already satisfied: requests-oauthlib>=0.7.0 in /srv/conda/lib/python3.11/site-packages (from google-auth-oauthlib->gspread_pandas>=3.3->-r requirements.txt (line 28)) (2.0.0)\n",
      "Requirement already satisfied: zipp>=3.20 in /srv/conda/lib/python3.11/site-packages (from importlib_metadata>=6.7.0->CFEDemands>=0.6.3.dev0->-r requirements.txt (line 5)) (3.21.0)\n",
      "Requirement already satisfied: six>=1.5 in /srv/conda/lib/python3.11/site-packages (from python-dateutil>=2.7->matplotlib>=3.3.4->-r requirements.txt (line 10)) (1.17.0)\n",
      "Requirement already satisfied: pyasn1<0.7.0,>=0.6.1 in /srv/conda/lib/python3.11/site-packages (from pyasn1-modules>=0.2.1->google-auth->gspread_pandas>=3.3->-r requirements.txt (line 28)) (0.6.1)\n",
      "Requirement already satisfied: oauthlib>=3.0.0 in /srv/conda/lib/python3.11/site-packages (from requests-oauthlib>=0.7.0->google-auth-oauthlib->gspread_pandas>=3.3->-r requirements.txt (line 28)) (3.2.2)\n",
      "Requirement already satisfied: requests>=2.0.0 in /srv/conda/lib/python3.11/site-packages (from requests-oauthlib>=0.7.0->google-auth-oauthlib->gspread_pandas>=3.3->-r requirements.txt (line 28)) (2.32.3)\n",
      "Requirement already satisfied: charset_normalizer<4,>=2 in /srv/conda/lib/python3.11/site-packages (from requests>=2.0.0->requests-oauthlib>=0.7.0->google-auth-oauthlib->gspread_pandas>=3.3->-r requirements.txt (line 28)) (3.4.0)\n",
      "Requirement already satisfied: idna<4,>=2.5 in /srv/conda/lib/python3.11/site-packages (from requests>=2.0.0->requests-oauthlib>=0.7.0->google-auth-oauthlib->gspread_pandas>=3.3->-r requirements.txt (line 28)) (3.10)\n",
      "Requirement already satisfied: urllib3<3,>=1.21.1 in /srv/conda/lib/python3.11/site-packages (from requests>=2.0.0->requests-oauthlib>=0.7.0->google-auth-oauthlib->gspread_pandas>=3.3->-r requirements.txt (line 28)) (2.3.0)\n",
      "Requirement already satisfied: certifi>=2017.4.17 in /srv/conda/lib/python3.11/site-packages (from requests>=2.0.0->requests-oauthlib>=0.7.0->google-auth-oauthlib->gspread_pandas>=3.3->-r requirements.txt (line 28)) (2025.1.31)\n",
      "Using cached cfedemands-0.6.4.dev0-py2.py3-none-any.whl (45 kB)\n",
      "Installing collected packages: CFEDemands\n",
      "  Attempting uninstall: CFEDemands\n",
      "    Found existing installation: CFEDemands 0.6.1\n",
      "    Uninstalling CFEDemands-0.6.1:\n",
      "      Successfully uninstalled CFEDemands-0.6.1\n",
      "Successfully installed CFEDemands-0.6.4.dev0\n"
     ]
    }
   ],
   "source": [
    "!pip install -r requirements.txt"
   ]
  },
  {
   "cell_type": "code",
   "execution_count": 47,
   "id": "4f1f988e-e3b2-4838-9394-c9e448fab343",
   "metadata": {},
   "outputs": [],
   "source": [
    "import pandas as pd\n",
    "import numpy as np\n",
    "from eep153_tools.sheets import read_sheets\n",
    "import cfe.regression as rgsn\n",
    "import warnings"
   ]
  },
  {
   "cell_type": "code",
   "execution_count": 48,
   "id": "833e3a49-15fa-4ad6-8736-80b178da1f55",
   "metadata": {},
   "outputs": [],
   "source": [
    "warnings.filterwarnings('ignore')"
   ]
  },
  {
   "cell_type": "markdown",
   "id": "c3180321-c910-4575-bbd3-d2060b96ee66",
   "metadata": {},
   "source": [
    "# [A] Choice of a dataset and regression set-up"
   ]
  },
  {
   "cell_type": "markdown",
   "id": "55ec0298-59bd-4e49-a527-1ff5824f33c9",
   "metadata": {},
   "source": [
    "We chose the Uganda dataset because it was one of the most comprehensive in our previous project, offering detailed yearly data. We also identified a relevant nutrition policy in Uganda to analyze, allowing us to assess its impact and suggest policy improvements."
   ]
  },
  {
   "cell_type": "code",
   "execution_count": 3,
   "id": "80616d2c-ba10-4973-a32a-d4dde58efc86",
   "metadata": {},
   "outputs": [],
   "source": [
    "uganda_data = '1yFWlP5N7Aowaj6t2roRSFFUC50aFD-RLBGfzGtqLl0w'"
   ]
  },
  {
   "cell_type": "code",
   "execution_count": 70,
   "id": "e1f47b67-30b2-42b5-81f5-3e6617a0a08a",
   "metadata": {},
   "outputs": [],
   "source": [
    "import cfe\n",
    "\n",
    "# Define your InputFiles dictionary.\n",
    "\n",
    "# --------------------------------------------\n",
    "# YEAR  (2009-10) and Run Cell\n",
    "#---------------------------------------------\n",
    "\n",
    "InputFiles = {\n",
    "    'Expenditures': ('1yVLriVpo7KGUXvR3hq_n53XpXlD5NmLaH1oOMZyV0gQ','Expenditures (2009-10)'), #CHANGE YEAR HERE 2013-14 OR 2019-20\n",
    "    'Prices': ('1yVLriVpo7KGUXvR3hq_n53XpXlD5NmLaH1oOMZyV0gQ','Prices'),\n",
    "    'HH Characteristics': ('1yVLriVpo7KGUXvR3hq_n53XpXlD5NmLaH1oOMZyV0gQ','HH Characteristics'),\n",
    "    'FCT': ('1yVLriVpo7KGUXvR3hq_n53XpXlD5NmLaH1oOMZyV0gQ','FCT'),\n",
    "    'RDI': ('1yVLriVpo7KGUXvR3hq_n53XpXlD5NmLaH1oOMZyV0gQ','RDI'),\n",
    "}\n",
    "\n",
    "\n",
    "def get_clean_sheet(key, sheet=None):\n",
    "    \"\"\"\n",
    "    Read a sheet from Google Sheets, clean column names and duplicates.\n",
    "    \"\"\"\n",
    "    df = read_sheets(key, sheet=sheet)\n",
    "    # Strip whitespace from column names.\n",
    "    df.columns = [c.strip() for c in df.columns.tolist()]\n",
    "    # Remove duplicate columns, keeping the first occurrence.\n",
    "    df = df.loc[:, ~df.columns.duplicated(keep='first')]\n",
    "    # Drop columns that start with 'Unnamed'\n",
    "    df = df.drop([col for col in df.columns if col.startswith('Unnamed')], axis=1)\n",
    "    # Drop duplicate rows based on the index.\n",
    "    df = df.loc[~df.index.duplicated(), :]\n",
    "    # Also drop any completely duplicate rows.\n",
    "    df = df.drop_duplicates()\n",
    "    return df\n",
    "\n",
    "\n",
    "def load_data(InputFiles):\n",
    "    \"\"\"\n",
    "    Load and preprocess the Expenditures, HH Characteristics, Prices, FCT, and RDI data.\n",
    "    Returns:\n",
    "      x: Expenditures DataFrame indexed by ['i','t','m'] with columns 'j'\n",
    "      z: Household characteristics DataFrame indexed by ['i','t','m']\n",
    "      p, fct, rdi: Other data sets (if needed for later analysis)\n",
    "    \"\"\"\n",
    "    # Get expenditures\n",
    "    x = get_clean_sheet(InputFiles['Expenditures'][0],\n",
    "                        sheet=InputFiles['Expenditures'][1])\n",
    "    if 'm' not in x.columns:\n",
    "        x['m'] = 1\n",
    "    x[\"i\"] = x[\"i\"].astype(str)\n",
    "    x = x.set_index(['i','t','m'])\n",
    "    x.columns.name = 'j'\n",
    "    x = x.apply(lambda col: pd.to_numeric(col, errors='coerce'))\n",
    "    x = x.replace(0, np.nan)\n",
    "    \n",
    "    # Get HH Characteristics\n",
    "    z = get_clean_sheet(InputFiles['HH Characteristics'][0],\n",
    "                        sheet=InputFiles['HH Characteristics'][1])\n",
    "    if 'm' not in z.columns:\n",
    "        z['m'] = 1\n",
    "    z = z.set_index(['i','t','m'])\n",
    "    z.columns.name = 'k'\n",
    "    z = z.apply(lambda col: pd.to_numeric(col, errors='coerce'))\n",
    "    \n",
    "    # Get Prices (if needed later)\n",
    "    p = get_clean_sheet(InputFiles['Prices'][0],\n",
    "                        sheet=InputFiles['Prices'][1])\n",
    "    if 'm' not in p.columns:\n",
    "        p['m'] = 1\n",
    "    p = p.set_index(['t','m'])\n",
    "    p.columns.name = 'j'\n",
    "    p = p.apply(lambda col: pd.to_numeric(col, errors='coerce'))\n",
    "    p = p.replace(0, np.nan)\n",
    "    \n",
    "    # Get FCT\n",
    "    fct = get_clean_sheet(InputFiles['FCT'][0],\n",
    "                          sheet=InputFiles['FCT'][1])\n",
    "    fct = fct.set_index('j')\n",
    "    fct.columns.name = 'n'\n",
    "    fct = fct.apply(lambda col: pd.to_numeric(col, errors='coerce'))\n",
    "    \n",
    "    # Get RDI\n",
    "    rdi = get_clean_sheet(InputFiles['RDI'][0],\n",
    "                          sheet=InputFiles['RDI'][1])\n",
    "    rdi = rdi.set_index('n')\n",
    "    rdi.columns.name = 'k'\n",
    "    \n",
    "    return x, z, p, fct, rdi\n",
    "\n",
    "\n",
    "def prepare_expenditures_for_regression(x):\n",
    "    \"\"\"\n",
    "    Convert the Expenditures DataFrame to a 1D Series (y) for regression.\n",
    "    This function aggregates duplicate (i,t,m,j) combinations using the mean,\n",
    "    then takes the natural log.\n",
    "    \"\"\"\n",
    "    # Stack the expenditures so that columns (j) become part of the index.\n",
    "    # Reset index to make all index levels into columns.\n",
    "    df_long = x.stack().reset_index(name='expenditure')\n",
    "    # Now, if duplicates exist in (i,t,m,j), aggregate them.\n",
    "    df_agg = df_long.groupby(['i', 't', 'm', 'j'])['expenditure'].mean().reset_index()\n",
    "    # Set the multi-index again.\n",
    "    y = df_agg.set_index(['i', 't', 'm', 'j'])['expenditure']\n",
    "    # Take the log of expenditures.\n",
    "    y_log = np.log(y)\n",
    "    return y_log\n",
    "\n",
    "\n",
    "def run_regression(x, z):\n",
    "    \"\"\"\n",
    "    Prepare the data and run the regression of log(expenditures) on household characteristics.\n",
    "    Returns the regression result from cfe.\n",
    "    \"\"\"\n",
    "    # Prepare y (dependent variable)\n",
    "    y_log = prepare_expenditures_for_regression(x)\n",
    "    \n",
    "    # Run the regression.\n",
    "    result = cfe.Regression(y=y_log, d=z)\n",
    "    return result\n",
    "\n",
    "\n",
    "# =============================================================================\n",
    "# Call of the functions:\n",
    "# =============================================================================\n",
    "\n",
    "# Load all data.\n",
    "x, z, p, fct, rdi = load_data(InputFiles)\n",
    "\n",
    "# preview of data:\n",
    "#display(x.head())\n",
    "#display(z.head())\n",
    "#display(p.head())\n",
    "#display(fct.head())\n",
    "#display(rdi.head())\n",
    "\n",
    "# Run  regression.\n",
    "result = run_regression(x, z)\n",
    "\n",
    "# Display sorted regression coefficients.\n",
    "beta_sorted = result.get_beta().sort_values(ascending=False)\n",
    "#print(beta_sorted.head(20))\n"
   ]
  },
  {
   "cell_type": "code",
   "execution_count": 71,
   "id": "83f01f53-ed61-4dfd-8841-9dff78bff8ce",
   "metadata": {},
   "outputs": [],
   "source": [
    "result.to_pickle('./foo.pickle')"
   ]
  },
  {
   "cell_type": "code",
   "execution_count": 72,
   "id": "389c6ed3-5a49-420d-a42e-adf6173fdc64",
   "metadata": {},
   "outputs": [],
   "source": [
    "import cfe\n",
    "\n",
    "result = cfe.read_pickle('foo.pickle')  # Get persistent result saved above...\n",
    "\n",
    "xhat = result.predicted_expenditures()\n",
    "\n",
    "# Expenditures divided by prices/kg gives quantities in kgs...\n",
    "qhat = (xhat.unstack('j')/p).dropna(how='all')\n",
    "\n",
    "# Drop missing columns\n",
    "qhat = qhat.loc[:,qhat.count()>0]"
   ]
  },
  {
   "cell_type": "code",
   "execution_count": 73,
   "id": "3cab32b9-c1d0-488b-bb2b-6c4e954c1b85",
   "metadata": {},
   "outputs": [
    {
     "data": {
      "text/plain": [
       "n\n",
       "Energy          106476.993449\n",
       "Protein           2165.478473\n",
       "Fiber             2009.072054\n",
       "Folate           21064.797450\n",
       "Calcium          28684.337182\n",
       "Carbohydrate     19616.140712\n",
       "Iron               835.493006\n",
       "Niacin             753.466964\n",
       "Riboflavin          66.299184\n",
       "Thiamin             77.429589\n",
       "Vitamin A        17935.227646\n",
       "Vitamin B-12        68.797926\n",
       "Vitamin B-6        170.007659\n",
       "Vitamin C        14992.000232\n",
       "Zinc               398.351343\n",
       "dtype: float64"
      ]
     },
     "execution_count": 73,
     "metadata": {},
     "output_type": "execute_result"
    }
   ],
   "source": [
    "use = fct.index.intersection(qhat.columns)\n",
    "\n",
    "\n",
    "nutrients = qhat[use]@fct.loc[use,:]\n",
    "nutrients.mean()    # NB: Nutrients are for past /week/ for entire household. (Depends on dataset)"
   ]
  },
  {
   "cell_type": "code",
   "execution_count": 74,
   "id": "5b7e8dad-4eb5-4957-9d88-e486985d7728",
   "metadata": {},
   "outputs": [],
   "source": [
    "yhat = result.get_predicted_log_expenditures()"
   ]
  },
  {
   "cell_type": "markdown",
   "id": "7f58101d-a4e2-4b38-a3b1-f92844ae118b",
   "metadata": {},
   "source": [
    "# [A] Estimate Demand System"
   ]
  },
  {
   "cell_type": "markdown",
   "id": "f4a20cfa-a3fe-46f0-b15a-7cf6cf8ae1a3",
   "metadata": {},
   "source": [
    "### Setting up demand system from project 3"
   ]
  },
  {
   "cell_type": "code",
   "execution_count": 80,
   "id": "c1d9125c-c6f4-4034-8156-8a81a83e68e9",
   "metadata": {},
   "outputs": [],
   "source": [
    "\n",
    "def process_data_per_year(uganda_data, year):\n",
    "    # --- Food Expenditures ---\n",
    "    sheet_expend = f\"Food Expenditures ({year})\"\n",
    "    x = read_sheets(uganda_data, sheet=sheet_expend)\n",
    "    x[\"i\"] = x[\"i\"].astype(str)\n",
    "    x = x.set_index(['i', 't', 'm', 'j']).squeeze()\n",
    "    \n",
    "    # --- Food Prices ---\n",
    "    sheet_prices = f\"Food Prices ({year})\"\n",
    "    p = read_sheets(uganda_data, sheet=sheet_prices).set_index(['t', 'm', 'j', 'u'])\n",
    "    p = p.groupby(['t', 'm', 'j', 'u']).median()\n",
    "    \n",
    "    # Directly select prices in kilograms\n",
    "    p = p.xs('Kg', level='u').squeeze().unstack('j')\n",
    "    # Align to only the goods you estimated\n",
    "    p = p[x.index.levels[-1]].T\n",
    "\n",
    "    # --- Household Characteristics ---\n",
    "    d = read_sheets(uganda_data, sheet=\"Household Characteristics\")\n",
    "    d = d[d.t == year]\n",
    "    d.columns.name = 'k'\n",
    "    d = d.replace(np.nan, 0)\n",
    "    d.set_index(['i', 't', 'm'], inplace=True)\n",
    "    \n",
    "    # --- Expenditures Processing ---\n",
    "    x = x.T.groupby(['i', 't', 'm', 'j']).sum()\n",
    "    x = x.replace(0, np.nan)\n",
    "    y = np.log(x)\n",
    "    \n",
    "    return x, y, d\n",
    "\n",
    "\n",
    "# --------------------------------------------\n",
    "# YEAR (2009-10) and Run Cell\n",
    "#---------------------------------------------\n",
    "x, y, d = process_data_per_year(uganda_data,\"2009-10\")\n",
    "\n",
    "#print(\"Food Expenditures (x)\")\n",
    "#display(x.head())\n",
    "\n",
    "#print(\"Household Characteristics (d)\")\n",
    "#display(d.head())\n",
    "\n",
    "#print(\"Log of Expenditures (y)\")\n",
    "#isplay(y.head())"
   ]
  },
  {
   "cell_type": "code",
   "execution_count": 81,
   "id": "e71827ba-45a1-4b27-ab30-aa521400a177",
   "metadata": {},
   "outputs": [
    {
     "data": {
      "text/plain": [
       "i           t        m        j             \n",
       "1013000201  2009-10  Central  Beans              2862.805019\n",
       "                              Beef               5177.391930\n",
       "                              Bread              2957.838367\n",
       "                              Cabbages            725.187395\n",
       "                              Cassava            2495.331637\n",
       "                                                    ...     \n",
       "4193003510  2009-10  Western  Sugar              5828.781737\n",
       "                              Sweet Bananas      5298.538559\n",
       "                              Sweet Potatoes    14762.647172\n",
       "                              Tea                 750.807756\n",
       "                              Tomatoes           2401.653351\n",
       "Length: 96530, dtype: float64"
      ]
     },
     "execution_count": 81,
     "metadata": {},
     "output_type": "execute_result"
    }
   ],
   "source": [
    "result.predicted_expenditures()"
   ]
  },
  {
   "cell_type": "code",
   "execution_count": 82,
   "id": "5836112b-dc9c-4169-b17e-70999cc782c4",
   "metadata": {},
   "outputs": [],
   "source": [
    "result = rgsn.Regression(y=y,d=d)"
   ]
  },
  {
   "cell_type": "code",
   "execution_count": 83,
   "id": "0c4c3f37-76a8-4521-9061-c12c5c5db2d2",
   "metadata": {},
   "outputs": [],
   "source": [
    "beta = result.get_beta()\n",
    "#beta.head"
   ]
  },
  {
   "cell_type": "code",
   "execution_count": 84,
   "id": "c3eceb56-b5ce-4014-a344-b1c2511e7798",
   "metadata": {},
   "outputs": [],
   "source": [
    "gamma = result.get_gamma()\n",
    "#gamma.head"
   ]
  },
  {
   "cell_type": "markdown",
   "id": "b7ebd9fa-a984-415b-9302-00456ecf6790",
   "metadata": {},
   "source": [
    "### Saving Result"
   ]
  },
  {
   "cell_type": "code",
   "execution_count": 86,
   "id": "a793ce9d-c283-4b5b-a5d1-a4b5c79f7dbc",
   "metadata": {},
   "outputs": [],
   "source": [
    "result.to_pickle('uganda_estimates_2009.rgsn')"
   ]
  },
  {
   "cell_type": "code",
   "execution_count": 87,
   "id": "0f6e67ae-2362-480c-aec2-73311b93861e",
   "metadata": {},
   "outputs": [],
   "source": [
    "import cfe\n",
    "result = cfe.regression.read_pickle('uganda_estimates_2009.rgsn')\n"
   ]
  },
  {
   "cell_type": "markdown",
   "id": "4a79c4c5-bacc-4fbb-ac44-d84b6f2862c7",
   "metadata": {},
   "source": [
    "### **New Code Starts Here**"
   ]
  },
  {
   "cell_type": "markdown",
   "id": "8941d3c4-f2ed-4c83-8ed6-485832355dae",
   "metadata": {},
   "source": [
    "#### Reference Prices"
   ]
  },
  {
   "cell_type": "code",
   "execution_count": 88,
   "id": "a070cfad-85f3-4334-955f-3cd656332194",
   "metadata": {},
   "outputs": [],
   "source": [
    "col_prices = p.mean(axis=0)\n",
    "\n",
    "pbar = col_prices.groupby(level='j').mean()\n",
    "\n",
    "# Keep only the goods you have betas for, fill missing with 1\n",
    "pbar = pbar.reindex(result.beta.index).fillna(1)\n",
    "\n",
    "def my_prices(p0, j, p=pbar):\n",
    "    \"\"\"\n",
    "    Change price of jth good to p0, holding other prices fixed.\n",
    "    \"\"\"\n",
    "    p = p.copy()\n",
    "    p.loc[j] = p0\n",
    "    return p\n"
   ]
  },
  {
   "cell_type": "markdown",
   "id": "bad5eb62-12ad-4761-aafb-b5a994b0efd5",
   "metadata": {},
   "source": [
    "#### Budgets"
   ]
  },
  {
   "cell_type": "code",
   "execution_count": 89,
   "id": "7067ccd6-280a-4623-8715-d69723ee2711",
   "metadata": {},
   "outputs": [],
   "source": [
    "import numpy as np\n",
    "\n",
    "xhat = result.predicted_expenditures()\n",
    "\n",
    "# Total food expenditures per household\n",
    "xbar = xhat.groupby(['i','t','m']).sum()\n",
    "\n",
    "# Reference budget\n",
    "xref = xbar.quantile(0.5)  # Household at 0.5 quantile is median"
   ]
  },
  {
   "cell_type": "markdown",
   "id": "1669f933-00a9-478e-a052-41df3dce1444",
   "metadata": {},
   "source": [
    "#### Food Quantities "
   ]
  },
  {
   "cell_type": "code",
   "execution_count": 90,
   "id": "cbfc97e3-262c-4be7-a6d0-a8716b570333",
   "metadata": {},
   "outputs": [],
   "source": [
    "qhat = (xhat.unstack('j')/pbar).dropna(how='all')\n",
    "\n",
    "# Drop missing columns\n",
    "qhat = qhat.loc[:,qhat.count()>0]\n",
    "\n",
    "#qhat.head(4)"
   ]
  },
  {
   "cell_type": "code",
   "execution_count": 91,
   "id": "d0b1a6d9-18d9-47b9-8c2e-1016da0fbdd5",
   "metadata": {},
   "outputs": [],
   "source": [
    "def my_prices(j,p0,p=pbar):\n",
    "    \"\"\"\n",
    "    Change price of jth good to p0, holding other prices fixed at p.\n",
    "    \"\"\"\n",
    "    p = p.copy()\n",
    "    p.loc[j] = p0\n",
    "    return p"
   ]
  },
  {
   "cell_type": "markdown",
   "id": "498396d0-5625-4e9c-9d35-9fe9fd444294",
   "metadata": {},
   "source": [
    "### Demands"
   ]
  },
  {
   "cell_type": "markdown",
   "id": "fce8ac8a-a8b0-42ae-bade-8ad7278923b4",
   "metadata": {},
   "source": [
    "#### Demand Functions -  how quantity demanded responds to price changes at different budget percentiles."
   ]
  },
  {
   "cell_type": "code",
   "execution_count": 92,
   "id": "a55b7706-140a-429b-949a-e56833b894c1",
   "metadata": {},
   "outputs": [],
   "source": [
    "%matplotlib inline\n"
   ]
  },
  {
   "cell_type": "code",
   "execution_count": 93,
   "id": "72d8528f-80c2-4d01-8b8e-41235ff83818",
   "metadata": {},
   "outputs": [
    {
     "data": {
      "text/plain": [
       "Text(0.5, 0, 'Quantities of Maize (flour) Demanded')"
      ]
     },
     "execution_count": 93,
     "metadata": {},
     "output_type": "execute_result"
    },
    {
     "data": {
      "image/png": "[encoded data removed]",
      "text/plain": [
       "<Figure size 640x480 with 1 Axes>"
      ]
     },
     "metadata": {},
     "output_type": "display_data"
    }
   ],
   "source": [
    "import matplotlib.pyplot as plt\n",
    "\n",
    "use = 'Maize (flour)'  # CHANGE FOOD TYPE HERE\n",
    "\n",
    "# Vary prices from 50% to 200% of reference.\n",
    "scale = np.linspace(.5,2,20)\n",
    "\n",
    "# Demand  for household at median budget\n",
    "plt.plot([result.demands(xref,my_prices(use,pbar[use]*s,pbar))[use] for s in scale],scale)\n",
    "\n",
    "# Demand for household at 25% percentile\n",
    "plt.plot([result.demands(xbar.quantile(0.25),my_prices(use,pbar[use]*s,pbar))[use] for s in scale],scale)\n",
    "\n",
    "# Demand for household at 75% percentile\n",
    "plt.plot([result.demands(xbar.quantile(0.75),my_prices(use,pbar[use]*s,pbar))[use] for s in scale],scale)\n",
    "\n",
    "plt.ylabel(f\"Price (relative to base of {pbar[use]:.2f})\")\n",
    "plt.xlabel(f\"Quantities of {use} Demanded\")"
   ]
  },
  {
   "cell_type": "markdown",
   "id": "f611b055-765f-4b1c-85f9-7642dc384abc",
   "metadata": {},
   "source": [
    "#### Engel Curves - how expenditure shares change with income."
   ]
  },
  {
   "cell_type": "code",
   "execution_count": 94,
   "id": "aaff42c6-703c-43b8-9d7f-5007f3956eb1",
   "metadata": {},
   "outputs": [
    {
     "data": {
      "text/plain": [
       "Text(0.5, 1.0, 'Engel Curves')"
      ]
     },
     "execution_count": 94,
     "metadata": {},
     "output_type": "execute_result"
    },
    {
     "data": {
      "image/png": "[encoded data removed]",
      "text/plain": [
       "<Figure size 640x480 with 1 Axes>"
      ]
     },
     "metadata": {},
     "output_type": "display_data"
    }
   ],
   "source": [
    "fig,ax = plt.subplots()\n",
    "\n",
    "scale = np.geomspace(.01,10,50)\n",
    "\n",
    "ax.plot(np.log(scale*xref),[result.expenditures(s*xref,pbar)/(s*xref) for s in scale])\n",
    "ax.set_xlabel(f'log budget (relative to base of {xref:.0f})')\n",
    "ax.set_ylabel(f'Expenditure share')\n",
    "ax.set_title('Engel Curves')"
   ]
  },
  {
   "cell_type": "markdown",
   "id": "8268b700-1da0-49e7-a627-1f57d5afe1c6",
   "metadata": {},
   "source": [
    "# [A] Construct Nutrient System"
   ]
  },
  {
   "cell_type": "markdown",
   "id": "e7e24f33-f102-4cd0-8fba-75297da56cd2",
   "metadata": {},
   "source": [
    "#### Mapping to Nutrients"
   ]
  },
  {
   "cell_type": "code",
   "execution_count": 95,
   "id": "15b881cc-e0b2-4350-bee7-0d6b4dfc99cc",
   "metadata": {},
   "outputs": [
    {
     "name": "stdout",
     "output_type": "stream",
     "text": [
      "Index(['Beans (dry)', 'Beans (fresh)', 'Beef', 'Bread', 'Cassava (fresh)',\n",
      "       'Cooking Oil', 'Dodo', 'Eggs', 'Fresh Fish', 'Ground Nuts (pounded)',\n",
      "       'Ground Nuts (shelled)', 'Mangos', 'Millet', 'Onions', 'Oranges',\n",
      "       'Passion Fruits', 'Sim Sim', 'Sorghum', 'Sugar', 'Sweet Bananas',\n",
      "       'Sweet Potatoes (fresh)', 'Tomatoes'],\n",
      "      dtype='object', name='j')\n"
     ]
    }
   ],
   "source": [
    "# Create a new FCT and vector of consumption that only share rows in common:\n",
    "fct0,c0 = fct.align(qhat.T,axis=0,join='inner')\n",
    "print(fct0.index)"
   ]
  },
  {
   "cell_type": "code",
   "execution_count": 96,
   "id": "b7291fb7-8394-461a-aa68-145934a4783e",
   "metadata": {},
   "outputs": [
    {
     "data": {
      "text/html": [
       "<div>\n",
       "<style scoped>\n",
       "    .dataframe tbody tr th:only-of-type {\n",
       "        vertical-align: middle;\n",
       "    }\n",
       "\n",
       "    .dataframe tbody tr th {\n",
       "        vertical-align: top;\n",
       "    }\n",
       "\n",
       "    .dataframe thead tr th {\n",
       "        text-align: left;\n",
       "    }\n",
       "\n",
       "    .dataframe thead tr:last-of-type th {\n",
       "        text-align: right;\n",
       "    }\n",
       "</style>\n",
       "<table border=\"1\" class=\"dataframe\">\n",
       "  <thead>\n",
       "    <tr>\n",
       "      <th>i</th>\n",
       "      <th>1013000201</th>\n",
       "      <th>1013000204</th>\n",
       "      <th>1013000206</th>\n",
       "      <th>101300021302</th>\n",
       "      <th>1021000102</th>\n",
       "      <th>1021000108</th>\n",
       "      <th>1021000109</th>\n",
       "      <th>1021000110</th>\n",
       "      <th>1021000111</th>\n",
       "      <th>1021000113</th>\n",
       "      <th>...</th>\n",
       "      <th>4193003208</th>\n",
       "      <th>4193003210</th>\n",
       "      <th>4193003211</th>\n",
       "      <th>4193003212</th>\n",
       "      <th>4193003502</th>\n",
       "      <th>4193003503</th>\n",
       "      <th>4193003504</th>\n",
       "      <th>4193003506</th>\n",
       "      <th>4193003508</th>\n",
       "      <th>4193003510</th>\n",
       "    </tr>\n",
       "    <tr>\n",
       "      <th>t</th>\n",
       "      <th>2009-10</th>\n",
       "      <th>2009-10</th>\n",
       "      <th>2009-10</th>\n",
       "      <th>2009-10</th>\n",
       "      <th>2009-10</th>\n",
       "      <th>2009-10</th>\n",
       "      <th>2009-10</th>\n",
       "      <th>2009-10</th>\n",
       "      <th>2009-10</th>\n",
       "      <th>2009-10</th>\n",
       "      <th>...</th>\n",
       "      <th>2009-10</th>\n",
       "      <th>2009-10</th>\n",
       "      <th>2009-10</th>\n",
       "      <th>2009-10</th>\n",
       "      <th>2009-10</th>\n",
       "      <th>2009-10</th>\n",
       "      <th>2009-10</th>\n",
       "      <th>2009-10</th>\n",
       "      <th>2009-10</th>\n",
       "      <th>2009-10</th>\n",
       "    </tr>\n",
       "    <tr>\n",
       "      <th>m</th>\n",
       "      <th>Central</th>\n",
       "      <th>Central</th>\n",
       "      <th>Central</th>\n",
       "      <th>Central</th>\n",
       "      <th>Central</th>\n",
       "      <th>Central</th>\n",
       "      <th>Central</th>\n",
       "      <th>Central</th>\n",
       "      <th>Central</th>\n",
       "      <th>Central</th>\n",
       "      <th>...</th>\n",
       "      <th>Western</th>\n",
       "      <th>Western</th>\n",
       "      <th>Western</th>\n",
       "      <th>Western</th>\n",
       "      <th>Western</th>\n",
       "      <th>Western</th>\n",
       "      <th>Western</th>\n",
       "      <th>Western</th>\n",
       "      <th>Western</th>\n",
       "      <th>Western</th>\n",
       "    </tr>\n",
       "    <tr>\n",
       "      <th>n</th>\n",
       "      <th></th>\n",
       "      <th></th>\n",
       "      <th></th>\n",
       "      <th></th>\n",
       "      <th></th>\n",
       "      <th></th>\n",
       "      <th></th>\n",
       "      <th></th>\n",
       "      <th></th>\n",
       "      <th></th>\n",
       "      <th></th>\n",
       "      <th></th>\n",
       "      <th></th>\n",
       "      <th></th>\n",
       "      <th></th>\n",
       "      <th></th>\n",
       "      <th></th>\n",
       "      <th></th>\n",
       "      <th></th>\n",
       "      <th></th>\n",
       "      <th></th>\n",
       "    </tr>\n",
       "  </thead>\n",
       "  <tbody>\n",
       "    <tr>\n",
       "      <th>Energy</th>\n",
       "      <td>4.252031e+07</td>\n",
       "      <td>5.085405e+07</td>\n",
       "      <td>4.631386e+07</td>\n",
       "      <td>4.226501e+07</td>\n",
       "      <td>6.485814e+07</td>\n",
       "      <td>6.565379e+07</td>\n",
       "      <td>6.572981e+07</td>\n",
       "      <td>1.001623e+08</td>\n",
       "      <td>8.666973e+07</td>\n",
       "      <td>1.080147e+08</td>\n",
       "      <td>...</td>\n",
       "      <td>6.856346e+07</td>\n",
       "      <td>7.410625e+07</td>\n",
       "      <td>4.951229e+07</td>\n",
       "      <td>4.923411e+07</td>\n",
       "      <td>1.668099e+08</td>\n",
       "      <td>1.077506e+08</td>\n",
       "      <td>4.612827e+07</td>\n",
       "      <td>1.902337e+08</td>\n",
       "      <td>5.090537e+07</td>\n",
       "      <td>1.968943e+08</td>\n",
       "    </tr>\n",
       "    <tr>\n",
       "      <th>Protein</th>\n",
       "      <td>2.360851e+06</td>\n",
       "      <td>2.804624e+06</td>\n",
       "      <td>2.535928e+06</td>\n",
       "      <td>2.319010e+06</td>\n",
       "      <td>3.665150e+06</td>\n",
       "      <td>3.611813e+06</td>\n",
       "      <td>3.617967e+06</td>\n",
       "      <td>5.805361e+06</td>\n",
       "      <td>4.511182e+06</td>\n",
       "      <td>5.931056e+06</td>\n",
       "      <td>...</td>\n",
       "      <td>3.843417e+06</td>\n",
       "      <td>4.152106e+06</td>\n",
       "      <td>2.743094e+06</td>\n",
       "      <td>2.650188e+06</td>\n",
       "      <td>8.958145e+06</td>\n",
       "      <td>6.084583e+06</td>\n",
       "      <td>2.580521e+06</td>\n",
       "      <td>1.038551e+07</td>\n",
       "      <td>2.792986e+06</td>\n",
       "      <td>1.090839e+07</td>\n",
       "    </tr>\n",
       "    <tr>\n",
       "      <th>Fiber</th>\n",
       "      <td>9.738564e+05</td>\n",
       "      <td>1.187127e+06</td>\n",
       "      <td>9.634684e+05</td>\n",
       "      <td>9.492347e+05</td>\n",
       "      <td>1.439862e+06</td>\n",
       "      <td>1.589965e+06</td>\n",
       "      <td>1.429394e+06</td>\n",
       "      <td>2.240938e+06</td>\n",
       "      <td>2.075486e+06</td>\n",
       "      <td>2.407227e+06</td>\n",
       "      <td>...</td>\n",
       "      <td>1.879746e+06</td>\n",
       "      <td>2.150337e+06</td>\n",
       "      <td>1.319355e+06</td>\n",
       "      <td>1.535968e+06</td>\n",
       "      <td>4.058760e+06</td>\n",
       "      <td>2.682931e+06</td>\n",
       "      <td>1.285451e+06</td>\n",
       "      <td>5.139937e+06</td>\n",
       "      <td>1.433715e+06</td>\n",
       "      <td>5.373515e+06</td>\n",
       "    </tr>\n",
       "    <tr>\n",
       "      <th>Folate</th>\n",
       "      <td>2.179079e+07</td>\n",
       "      <td>2.657383e+07</td>\n",
       "      <td>2.198087e+07</td>\n",
       "      <td>2.145122e+07</td>\n",
       "      <td>3.235479e+07</td>\n",
       "      <td>3.677058e+07</td>\n",
       "      <td>3.076339e+07</td>\n",
       "      <td>5.222915e+07</td>\n",
       "      <td>4.593403e+07</td>\n",
       "      <td>5.437240e+07</td>\n",
       "      <td>...</td>\n",
       "      <td>4.564608e+07</td>\n",
       "      <td>5.393257e+07</td>\n",
       "      <td>3.149597e+07</td>\n",
       "      <td>3.824719e+07</td>\n",
       "      <td>9.295312e+07</td>\n",
       "      <td>6.294937e+07</td>\n",
       "      <td>3.075927e+07</td>\n",
       "      <td>1.276604e+08</td>\n",
       "      <td>3.502861e+07</td>\n",
       "      <td>1.332890e+08</td>\n",
       "    </tr>\n",
       "    <tr>\n",
       "      <th>Calcium</th>\n",
       "      <td>9.056596e+06</td>\n",
       "      <td>1.096598e+07</td>\n",
       "      <td>9.157368e+06</td>\n",
       "      <td>8.845553e+06</td>\n",
       "      <td>1.355056e+07</td>\n",
       "      <td>1.444042e+07</td>\n",
       "      <td>1.357339e+07</td>\n",
       "      <td>2.084519e+07</td>\n",
       "      <td>1.907664e+07</td>\n",
       "      <td>2.255793e+07</td>\n",
       "      <td>...</td>\n",
       "      <td>1.634820e+07</td>\n",
       "      <td>1.838185e+07</td>\n",
       "      <td>1.163031e+07</td>\n",
       "      <td>1.290669e+07</td>\n",
       "      <td>3.700603e+07</td>\n",
       "      <td>2.429825e+07</td>\n",
       "      <td>1.119422e+07</td>\n",
       "      <td>4.491789e+07</td>\n",
       "      <td>1.237868e+07</td>\n",
       "      <td>4.682171e+07</td>\n",
       "    </tr>\n",
       "  </tbody>\n",
       "</table>\n",
       "<p>5 rows × 2670 columns</p>\n",
       "</div>"
      ],
      "text/plain": [
       "i          1013000201    1013000204    1013000206  101300021302    1021000102  \\\n",
       "t             2009-10       2009-10       2009-10       2009-10       2009-10   \n",
       "m             Central       Central       Central       Central       Central   \n",
       "n                                                                               \n",
       "Energy   4.252031e+07  5.085405e+07  4.631386e+07  4.226501e+07  6.485814e+07   \n",
       "Protein  2.360851e+06  2.804624e+06  2.535928e+06  2.319010e+06  3.665150e+06   \n",
       "Fiber    9.738564e+05  1.187127e+06  9.634684e+05  9.492347e+05  1.439862e+06   \n",
       "Folate   2.179079e+07  2.657383e+07  2.198087e+07  2.145122e+07  3.235479e+07   \n",
       "Calcium  9.056596e+06  1.096598e+07  9.157368e+06  8.845553e+06  1.355056e+07   \n",
       "\n",
       "i          1021000108    1021000109    1021000110    1021000111    1021000113  \\\n",
       "t             2009-10       2009-10       2009-10       2009-10       2009-10   \n",
       "m             Central       Central       Central       Central       Central   \n",
       "n                                                                               \n",
       "Energy   6.565379e+07  6.572981e+07  1.001623e+08  8.666973e+07  1.080147e+08   \n",
       "Protein  3.611813e+06  3.617967e+06  5.805361e+06  4.511182e+06  5.931056e+06   \n",
       "Fiber    1.589965e+06  1.429394e+06  2.240938e+06  2.075486e+06  2.407227e+06   \n",
       "Folate   3.677058e+07  3.076339e+07  5.222915e+07  4.593403e+07  5.437240e+07   \n",
       "Calcium  1.444042e+07  1.357339e+07  2.084519e+07  1.907664e+07  2.255793e+07   \n",
       "\n",
       "i        ...    4193003208    4193003210    4193003211    4193003212  \\\n",
       "t        ...       2009-10       2009-10       2009-10       2009-10   \n",
       "m        ...       Western       Western       Western       Western   \n",
       "n        ...                                                           \n",
       "Energy   ...  6.856346e+07  7.410625e+07  4.951229e+07  4.923411e+07   \n",
       "Protein  ...  3.843417e+06  4.152106e+06  2.743094e+06  2.650188e+06   \n",
       "Fiber    ...  1.879746e+06  2.150337e+06  1.319355e+06  1.535968e+06   \n",
       "Folate   ...  4.564608e+07  5.393257e+07  3.149597e+07  3.824719e+07   \n",
       "Calcium  ...  1.634820e+07  1.838185e+07  1.163031e+07  1.290669e+07   \n",
       "\n",
       "i          4193003502    4193003503    4193003504    4193003506    4193003508  \\\n",
       "t             2009-10       2009-10       2009-10       2009-10       2009-10   \n",
       "m             Western       Western       Western       Western       Western   \n",
       "n                                                                               \n",
       "Energy   1.668099e+08  1.077506e+08  4.612827e+07  1.902337e+08  5.090537e+07   \n",
       "Protein  8.958145e+06  6.084583e+06  2.580521e+06  1.038551e+07  2.792986e+06   \n",
       "Fiber    4.058760e+06  2.682931e+06  1.285451e+06  5.139937e+06  1.433715e+06   \n",
       "Folate   9.295312e+07  6.294937e+07  3.075927e+07  1.276604e+08  3.502861e+07   \n",
       "Calcium  3.700603e+07  2.429825e+07  1.119422e+07  4.491789e+07  1.237868e+07   \n",
       "\n",
       "i          4193003510  \n",
       "t             2009-10  \n",
       "m             Western  \n",
       "n                      \n",
       "Energy   1.968943e+08  \n",
       "Protein  1.090839e+07  \n",
       "Fiber    5.373515e+06  \n",
       "Folate   1.332890e+08  \n",
       "Calcium  4.682171e+07  \n",
       "\n",
       "[5 rows x 2670 columns]"
      ]
     },
     "execution_count": 96,
     "metadata": {},
     "output_type": "execute_result"
    }
   ],
   "source": [
    "N = fct0.T@c0\n",
    "\n",
    "N.head()  #NB: Uganda quantities are for previous 7 days"
   ]
  },
  {
   "cell_type": "code",
   "execution_count": 97,
   "id": "0c588aea-6b43-4bfa-b494-635f6aa3a57a",
   "metadata": {},
   "outputs": [],
   "source": [
    "def nutrient_demand(x,p):\n",
    "    c = result.demands(x,p)\n",
    "    fct0,c0 = fct.align(c,axis=0,join='inner')\n",
    "    N = fct0.T@c0\n",
    "\n",
    "    N = N.loc[~N.index.duplicated()]\n",
    "    \n",
    "    return N"
   ]
  },
  {
   "cell_type": "code",
   "execution_count": 98,
   "id": "77a6b647-e853-40e5-bc81-c80c8b049c25",
   "metadata": {},
   "outputs": [
    {
     "data": {
      "text/plain": [
       "Text(0, 0.5, 'log nutrient')"
      ]
     },
     "execution_count": 98,
     "metadata": {},
     "output_type": "execute_result"
    },
    {
     "data": {
      "image/png": "[encoded data removed]",
      "text/plain": [
       "<Figure size 640x480 with 1 Axes>"
      ]
     },
     "metadata": {},
     "output_type": "display_data"
    }
   ],
   "source": [
    "import numpy as np\n",
    "import matplotlib.pyplot as plt\n",
    "\n",
    "X = np.linspace(xref/5,xref*5,50)\n",
    "\n",
    "#--------------------------\n",
    "#ADD OR CHANGE NUTRIENTS HERE\n",
    "#----------------------------\n",
    "UseNutrients = ['Iron', 'Vitamin A', 'Protein', 'Calcium', 'Vitamin C']\n",
    "\n",
    "df = pd.concat({myx:np.log(nutrient_demand(myx,pbar))[UseNutrients] for myx in X},axis=1).T\n",
    "ax = df.plot()\n",
    "\n",
    "ax.set_xlabel('log budget')\n",
    "ax.set_ylabel('log nutrient')"
   ]
  },
  {
   "cell_type": "code",
   "execution_count": 99,
   "id": "a79e3a70-2041-44ff-8493-35ca3ae97d88",
   "metadata": {},
   "outputs": [
    {
     "data": {
      "text/plain": [
       "Text(0, 0.5, 'log nutrient')"
      ]
     },
     "execution_count": 99,
     "metadata": {},
     "output_type": "execute_result"
    },
    {
     "data": {
      "image/png": "[encoded data removed]",
      "text/plain": [
       "<Figure size 640x480 with 1 Axes>"
      ]
     },
     "metadata": {},
     "output_type": "display_data"
    }
   ],
   "source": [
    "#--------------------------------------\n",
    "#Pick a food high ion Vitamin A and Iron\n",
    "#----------------------------------------\n",
    "\n",
    "USE_GOOD = 'Dodo'\n",
    "\n",
    "scale = np.geomspace(.01,10,50)\n",
    "\n",
    "ndf = pd.DataFrame({s:np.log(nutrient_demand(xref/2,my_prices(USE_GOOD,pbar[USE_GOOD]*s)))[UseNutrients] for s in scale}).T\n",
    "\n",
    "ax = ndf.plot()\n",
    "\n",
    "ax.set_xlabel('log price')\n",
    "ax.set_ylabel('log nutrient')"
   ]
  },
  {
   "cell_type": "markdown",
   "id": "bce83bd9-a8af-4459-bd2a-42222ea43a92",
   "metadata": {},
   "source": [
    "#### Nutritional Needs of Households"
   ]
  },
  {
   "cell_type": "code",
   "execution_count": 100,
   "id": "41abe1bb-bd4f-4757-859f-00b1f70eb54f",
   "metadata": {},
   "outputs": [],
   "source": [
    "# In first round, averaged over households and villages\n",
    "columns_to_average = [col for col in d.columns if col.startswith('Females') or col.startswith('Males')]\n",
    "\n",
    "dbar = d[columns_to_average].mean()"
   ]
  },
  {
   "cell_type": "code",
   "execution_count": 101,
   "id": "cc42ca23-3383-41c0-b56b-881b7cc29d93",
   "metadata": {},
   "outputs": [
    {
     "data": {
      "text/plain": [
       "n\n",
       "Energy          10179.623403\n",
       "Protein           223.121385\n",
       "Fiber             142.514728\n",
       "Folate           1884.431742\n",
       "Calcium          6265.332885\n",
       "Carbohydrate      765.924681\n",
       "Iron               62.606254\n",
       "Magnesium        1602.030935\n",
       "Niacin             72.034970\n",
       "Phosphorus       4754.031607\n",
       "Potassium       25390.080699\n",
       "Riboflavin          5.636785\n",
       "Thiamin             5.481473\n",
       "Vitamin A        3757.061197\n",
       "Vitamin B-12       11.306590\n",
       "Vitamin B-6         6.200605\n",
       "Vitamin C         333.589442\n",
       "Vitamin E          70.216543\n",
       "Vitamin K         444.909213\n",
       "Zinc               45.674849\n",
       "dtype: float64"
      ]
     },
     "execution_count": 101,
     "metadata": {},
     "output_type": "execute_result"
    }
   ],
   "source": [
    "rdi_renamed = rdi.copy()\n",
    "rdi_renamed.columns = rdi_renamed.columns.to_series() \\\n",
    "    .str.replace('^F ', 'Females ', regex=True) \\\n",
    "    .str.replace('^M ', 'Males ', regex=True) \\\n",
    "    .str.replace('51\\\\+', '51-99', regex=True)\n",
    "\n",
    "# Reorder columns to match dbar index\n",
    "rdi_aligned = rdi_renamed[dbar.index]\n",
    "\n",
    "# Matrix multiply\n",
    "hh_rdi = rdi_aligned @ dbar   # example: for 7 days\n",
    "hh_rdi"
   ]
  },
  {
   "cell_type": "code",
   "execution_count": 102,
   "id": "87cfda0c-09a3-4d02-a3ab-4d9e7e036e83",
   "metadata": {},
   "outputs": [
    {
     "data": {
      "text/html": [
       "<div>\n",
       "<style scoped>\n",
       "    .dataframe tbody tr th:only-of-type {\n",
       "        vertical-align: middle;\n",
       "    }\n",
       "\n",
       "    .dataframe tbody tr th {\n",
       "        vertical-align: top;\n",
       "    }\n",
       "\n",
       "    .dataframe thead th {\n",
       "        text-align: right;\n",
       "    }\n",
       "</style>\n",
       "<table border=\"1\" class=\"dataframe\">\n",
       "  <thead>\n",
       "    <tr style=\"text-align: right;\">\n",
       "      <th>k</th>\n",
       "      <th>Females 00-03</th>\n",
       "      <th>Females 04-08</th>\n",
       "      <th>Females 09-13</th>\n",
       "      <th>Females 14-18</th>\n",
       "      <th>Females 19-30</th>\n",
       "      <th>Females 31-50</th>\n",
       "      <th>Females 51-99</th>\n",
       "      <th>Males 00-03</th>\n",
       "      <th>Males 04-08</th>\n",
       "      <th>Males 09-13</th>\n",
       "      <th>Males 14-18</th>\n",
       "      <th>Males 19-30</th>\n",
       "      <th>Males 31-50</th>\n",
       "      <th>Males 51-99</th>\n",
       "    </tr>\n",
       "    <tr>\n",
       "      <th>n</th>\n",
       "      <th></th>\n",
       "      <th></th>\n",
       "      <th></th>\n",
       "      <th></th>\n",
       "      <th></th>\n",
       "      <th></th>\n",
       "      <th></th>\n",
       "      <th></th>\n",
       "      <th></th>\n",
       "      <th></th>\n",
       "      <th></th>\n",
       "      <th></th>\n",
       "      <th></th>\n",
       "      <th></th>\n",
       "    </tr>\n",
       "  </thead>\n",
       "  <tbody>\n",
       "    <tr>\n",
       "      <th>Energy</th>\n",
       "      <td>1000.0</td>\n",
       "      <td>1200.0</td>\n",
       "      <td>1600.0</td>\n",
       "      <td>1800.0</td>\n",
       "      <td>2000.0</td>\n",
       "      <td>1800.0</td>\n",
       "      <td>1600.0</td>\n",
       "      <td>1000.0</td>\n",
       "      <td>1400.0</td>\n",
       "      <td>1800.0</td>\n",
       "      <td>2200.0</td>\n",
       "      <td>2400.0</td>\n",
       "      <td>2200.0</td>\n",
       "      <td>2000.0</td>\n",
       "    </tr>\n",
       "    <tr>\n",
       "      <th>Protein</th>\n",
       "      <td>13.0</td>\n",
       "      <td>19.0</td>\n",
       "      <td>34.0</td>\n",
       "      <td>46.0</td>\n",
       "      <td>46.0</td>\n",
       "      <td>46.0</td>\n",
       "      <td>46.0</td>\n",
       "      <td>13.0</td>\n",
       "      <td>19.0</td>\n",
       "      <td>34.0</td>\n",
       "      <td>52.0</td>\n",
       "      <td>56.0</td>\n",
       "      <td>56.0</td>\n",
       "      <td>56.0</td>\n",
       "    </tr>\n",
       "    <tr>\n",
       "      <th>Fiber</th>\n",
       "      <td>14.0</td>\n",
       "      <td>16.8</td>\n",
       "      <td>22.4</td>\n",
       "      <td>25.2</td>\n",
       "      <td>28.0</td>\n",
       "      <td>25.2</td>\n",
       "      <td>22.4</td>\n",
       "      <td>14.0</td>\n",
       "      <td>19.6</td>\n",
       "      <td>25.2</td>\n",
       "      <td>30.8</td>\n",
       "      <td>33.6</td>\n",
       "      <td>30.8</td>\n",
       "      <td>28.0</td>\n",
       "    </tr>\n",
       "    <tr>\n",
       "      <th>Folate</th>\n",
       "      <td>150.0</td>\n",
       "      <td>200.0</td>\n",
       "      <td>300.0</td>\n",
       "      <td>400.0</td>\n",
       "      <td>400.0</td>\n",
       "      <td>400.0</td>\n",
       "      <td>400.0</td>\n",
       "      <td>150.0</td>\n",
       "      <td>200.0</td>\n",
       "      <td>300.0</td>\n",
       "      <td>400.0</td>\n",
       "      <td>400.0</td>\n",
       "      <td>400.0</td>\n",
       "      <td>400.0</td>\n",
       "    </tr>\n",
       "    <tr>\n",
       "      <th>Calcium</th>\n",
       "      <td>700.0</td>\n",
       "      <td>1000.0</td>\n",
       "      <td>1300.0</td>\n",
       "      <td>1300.0</td>\n",
       "      <td>1000.0</td>\n",
       "      <td>1000.0</td>\n",
       "      <td>1200.0</td>\n",
       "      <td>700.0</td>\n",
       "      <td>1000.0</td>\n",
       "      <td>1300.0</td>\n",
       "      <td>1300.0</td>\n",
       "      <td>1000.0</td>\n",
       "      <td>1000.0</td>\n",
       "      <td>1000.0</td>\n",
       "    </tr>\n",
       "  </tbody>\n",
       "</table>\n",
       "</div>"
      ],
      "text/plain": [
       "k        Females 00-03  Females 04-08  Females 09-13  Females 14-18  \\\n",
       "n                                                                     \n",
       "Energy          1000.0         1200.0         1600.0         1800.0   \n",
       "Protein           13.0           19.0           34.0           46.0   \n",
       "Fiber             14.0           16.8           22.4           25.2   \n",
       "Folate           150.0          200.0          300.0          400.0   \n",
       "Calcium          700.0         1000.0         1300.0         1300.0   \n",
       "\n",
       "k        Females 19-30  Females 31-50  Females 51-99  Males 00-03  \\\n",
       "n                                                                   \n",
       "Energy          2000.0         1800.0         1600.0       1000.0   \n",
       "Protein           46.0           46.0           46.0         13.0   \n",
       "Fiber             28.0           25.2           22.4         14.0   \n",
       "Folate           400.0          400.0          400.0        150.0   \n",
       "Calcium         1000.0         1000.0         1200.0        700.0   \n",
       "\n",
       "k        Males 04-08  Males 09-13  Males 14-18  Males 19-30  Males 31-50  \\\n",
       "n                                                                          \n",
       "Energy        1400.0       1800.0       2200.0       2400.0       2200.0   \n",
       "Protein         19.0         34.0         52.0         56.0         56.0   \n",
       "Fiber           19.6         25.2         30.8         33.6         30.8   \n",
       "Folate         200.0        300.0        400.0        400.0        400.0   \n",
       "Calcium       1000.0       1300.0       1300.0       1000.0       1000.0   \n",
       "\n",
       "k        Males 51-99  \n",
       "n                     \n",
       "Energy        2000.0  \n",
       "Protein         56.0  \n",
       "Fiber           28.0  \n",
       "Folate         400.0  \n",
       "Calcium       1000.0  "
      ]
     },
     "execution_count": 102,
     "metadata": {},
     "output_type": "execute_result"
    }
   ],
   "source": [
    "rdi_aligned.head()\n"
   ]
  },
  {
   "cell_type": "code",
   "execution_count": 103,
   "id": "d1ed64da-0f6c-4cc1-9de1-3f4430f35115",
   "metadata": {},
   "outputs": [
    {
     "data": {
      "text/plain": [
       "k\n",
       "Females 00-03    0.355414\n",
       "Females 04-08    0.483188\n",
       "Females 09-13    0.482851\n",
       "Females 14-18    0.412576\n",
       "Females 19-30    0.541022\n",
       "Females 31-50    0.472091\n",
       "Females 51-99    0.245461\n",
       "Males 00-03      0.375588\n",
       "Males 04-08      0.475454\n",
       "Males 09-13      0.494956\n",
       "Males 14-18      0.422327\n",
       "Males 19-30      0.484869\n",
       "Males 31-50      0.439139\n",
       "Males 51-99      0.206792\n",
       "dtype: float64"
      ]
     },
     "execution_count": 103,
     "metadata": {},
     "output_type": "execute_result"
    }
   ],
   "source": [
    "dbar"
   ]
  },
  {
   "cell_type": "markdown",
   "id": "616bceec-1124-410e-86c1-3032458c0e97",
   "metadata": {},
   "source": [
    "### Nutritional Adequacy of Food Demands\n"
   ]
  },
  {
   "cell_type": "code",
   "execution_count": 104,
   "id": "6e965291-23d8-441e-9707-60231d4872f1",
   "metadata": {},
   "outputs": [],
   "source": [
    "def nutrient_adequacy_ratio(x, p, d, rdi = rdi_aligned, days=7):\n",
    "    # 1) copy & rename RDI columns so they line up with d.index\n",
    "    rdi_clean = rdi.copy()\n",
    "    rdi_clean.columns = (\n",
    "        rdi_clean.columns\n",
    "        .to_series()\n",
    "        .str.replace('F ', 'Females ', regex=False)\n",
    "        .str.replace('M ', 'Males ',   regex=False)\n",
    "    )\n",
    "    rdi_clean.columns = rdi_clean.columns.str.replace('51\\\\+', '51–99', regex=True)\n",
    "\n",
    "    # 2) replace any blank entries with zero\n",
    "    rdi_clean = rdi_clean.replace('', 0)\n",
    "\n",
    "    # 3) re-order (and fill) so that columns == d.index\n",
    "    #    any missing columns become zeros\n",
    "    rdi_aligned = rdi_clean.reindex(columns=d.index, fill_value=0)\n",
    "\n",
    "    # 4) compute household RDI and divide demand by it\n",
    "    hh_rdi = (rdi_aligned @ d) * days\n",
    "    return nutrient_demand(x, p) / hh_rdi\n"
   ]
  },
  {
   "cell_type": "code",
   "execution_count": 105,
   "id": "a971d6d1-9ed7-44ed-ac17-1b9653ca8b41",
   "metadata": {},
   "outputs": [
    {
     "data": {
      "text/plain": [
       "<matplotlib.lines.Line2D at 0x7bc7cd75ae10>"
      ]
     },
     "execution_count": 105,
     "metadata": {},
     "output_type": "execute_result"
    },
    {
     "data": {
      "image/png": "[encoded data removed]",
      "text/plain": [
       "<Figure size 640x480 with 1 Axes>"
      ]
     },
     "metadata": {},
     "output_type": "display_data"
    }
   ],
   "source": [
    "X = np.geomspace(.01 * xref, 2 * xref, 100)\n",
    "\n",
    "pd.DataFrame({\n",
    "    x: np.log(nutrient_adequacy_ratio(x, pbar, dbar, rdi))[UseNutrients] for x in X\n",
    "}).T.plot()\n",
    "\n",
    "plt.legend(UseNutrients)\n",
    "plt.xlabel('budget')\n",
    "plt.ylabel('log nutrient adequacy ratio')\n",
    "plt.axhline(0)\n",
    "plt.axvline(xref)\n"
   ]
  },
  {
   "cell_type": "code",
   "execution_count": 106,
   "id": "c6272225-79f8-4114-b5cd-b72b17e2d53c",
   "metadata": {},
   "outputs": [
    {
     "data": {
      "text/plain": [
       "Text(0.5, 0, 'log nutrient adequacy ratio')"
      ]
     },
     "execution_count": 106,
     "metadata": {},
     "output_type": "execute_result"
    },
    {
     "data": {
      "image/png": "[encoded data removed]",
      "text/plain": [
       "<Figure size 640x480 with 1 Axes>"
      ]
     },
     "metadata": {},
     "output_type": "display_data"
    }
   ],
   "source": [
    "scale = np.geomspace(.01,2,50)\n",
    "\n",
    "ndf = pd.DataFrame({s*pbar[USE_GOOD]:np.log(nutrient_adequacy_ratio(xref/4,my_prices(USE_GOOD,pbar[USE_GOOD]*s),dbar))[UseNutrients] for s in scale}).T\n",
    "\n",
    "fig,ax = plt.subplots()\n",
    "ax.plot(ndf['Vitamin C'],ndf.index)\n",
    "ax.axhline(pbar[USE_GOOD])\n",
    "ax.axvline(0)\n",
    "\n",
    "ax.set_ylabel('Price')\n",
    "ax.set_xlabel('log nutrient adequacy ratio')"
   ]
  },
  {
   "cell_type": "markdown",
   "id": "32bb1554-cc44-429b-a208-9cf56ac05c8f",
   "metadata": {},
   "source": [
    "# [A] Nutritional challeneges & Policy Goal"
   ]
  },
  {
   "cell_type": "markdown",
   "id": "80e8780d-5d9a-4813-8647-0fb6e3332120",
   "metadata": {},
   "source": [
    "### use example costs notebook Arpil 22nd"
   ]
  },
  {
   "cell_type": "code",
   "execution_count": 108,
   "id": "22eb2dc6-3899-40ba-8ec6-58000f67435a",
   "metadata": {},
   "outputs": [
    {
     "data": {
      "text/html": [
       "<div>\n",
       "<style scoped>\n",
       "    .dataframe tbody tr th:only-of-type {\n",
       "        vertical-align: middle;\n",
       "    }\n",
       "\n",
       "    .dataframe tbody tr th {\n",
       "        vertical-align: top;\n",
       "    }\n",
       "\n",
       "    .dataframe thead th {\n",
       "        text-align: right;\n",
       "    }\n",
       "</style>\n",
       "<table border=\"1\" class=\"dataframe\">\n",
       "  <thead>\n",
       "    <tr style=\"text-align: right;\">\n",
       "      <th></th>\n",
       "      <th></th>\n",
       "      <th>n</th>\n",
       "      <th>Energy</th>\n",
       "      <th>Protein</th>\n",
       "      <th>Fiber</th>\n",
       "      <th>Folate</th>\n",
       "      <th>Calcium</th>\n",
       "      <th>Carbohydrate</th>\n",
       "      <th>Iron</th>\n",
       "      <th>Niacin</th>\n",
       "      <th>Riboflavin</th>\n",
       "      <th>Thiamin</th>\n",
       "      <th>Vitamin A</th>\n",
       "      <th>Vitamin B-12</th>\n",
       "      <th>Vitamin B-6</th>\n",
       "      <th>Vitamin C</th>\n",
       "      <th>Zinc</th>\n",
       "    </tr>\n",
       "    <tr>\n",
       "      <th>i</th>\n",
       "      <th>t</th>\n",
       "      <th>m</th>\n",
       "      <th></th>\n",
       "      <th></th>\n",
       "      <th></th>\n",
       "      <th></th>\n",
       "      <th></th>\n",
       "      <th></th>\n",
       "      <th></th>\n",
       "      <th></th>\n",
       "      <th></th>\n",
       "      <th></th>\n",
       "      <th></th>\n",
       "      <th></th>\n",
       "      <th></th>\n",
       "      <th></th>\n",
       "      <th></th>\n",
       "    </tr>\n",
       "  </thead>\n",
       "  <tbody>\n",
       "    <tr>\n",
       "      <th>1013000201</th>\n",
       "      <th>2009-10</th>\n",
       "      <th>Central</th>\n",
       "      <td>0.948354</td>\n",
       "      <td>0.953596</td>\n",
       "      <td>1.208902</td>\n",
       "      <td>1.050136</td>\n",
       "      <td>0.436820</td>\n",
       "      <td>2.071797</td>\n",
       "      <td>1.185074</td>\n",
       "      <td>0.908719</td>\n",
       "      <td>1.207164</td>\n",
       "      <td>1.084082</td>\n",
       "      <td>0.444976</td>\n",
       "      <td>0.776891</td>\n",
       "      <td>2.319631</td>\n",
       "      <td>2.917228</td>\n",
       "      <td>0.818969</td>\n",
       "    </tr>\n",
       "    <tr>\n",
       "      <th>1013000204</th>\n",
       "      <th>2009-10</th>\n",
       "      <th>Central</th>\n",
       "      <td>1.013364</td>\n",
       "      <td>0.923990</td>\n",
       "      <td>1.297503</td>\n",
       "      <td>1.115584</td>\n",
       "      <td>0.436215</td>\n",
       "      <td>2.329798</td>\n",
       "      <td>1.195615</td>\n",
       "      <td>0.979088</td>\n",
       "      <td>1.202776</td>\n",
       "      <td>1.177146</td>\n",
       "      <td>0.468511</td>\n",
       "      <td>0.662099</td>\n",
       "      <td>2.592948</td>\n",
       "      <td>3.433642</td>\n",
       "      <td>0.812684</td>\n",
       "    </tr>\n",
       "    <tr>\n",
       "      <th>1013000206</th>\n",
       "      <th>2009-10</th>\n",
       "      <th>Central</th>\n",
       "      <td>1.025440</td>\n",
       "      <td>1.002021</td>\n",
       "      <td>1.263760</td>\n",
       "      <td>1.180044</td>\n",
       "      <td>0.499379</td>\n",
       "      <td>1.933427</td>\n",
       "      <td>1.159917</td>\n",
       "      <td>0.881475</td>\n",
       "      <td>1.407537</td>\n",
       "      <td>1.018507</td>\n",
       "      <td>0.629893</td>\n",
       "      <td>1.002733</td>\n",
       "      <td>2.317165</td>\n",
       "      <td>3.539164</td>\n",
       "      <td>0.818007</td>\n",
       "    </tr>\n",
       "    <tr>\n",
       "      <th>101300021302</th>\n",
       "      <th>2009-10</th>\n",
       "      <th>Central</th>\n",
       "      <td>0.943181</td>\n",
       "      <td>0.980372</td>\n",
       "      <td>1.139307</td>\n",
       "      <td>1.053558</td>\n",
       "      <td>0.447254</td>\n",
       "      <td>1.910659</td>\n",
       "      <td>1.149515</td>\n",
       "      <td>0.872234</td>\n",
       "      <td>1.281540</td>\n",
       "      <td>1.051248</td>\n",
       "      <td>0.490588</td>\n",
       "      <td>0.955234</td>\n",
       "      <td>2.209014</td>\n",
       "      <td>2.745356</td>\n",
       "      <td>0.825096</td>\n",
       "    </tr>\n",
       "    <tr>\n",
       "      <th>1021000102</th>\n",
       "      <th>2009-10</th>\n",
       "      <th>Central</th>\n",
       "      <td>1.451331</td>\n",
       "      <td>1.314323</td>\n",
       "      <td>1.778458</td>\n",
       "      <td>1.503572</td>\n",
       "      <td>0.623865</td>\n",
       "      <td>3.011398</td>\n",
       "      <td>1.639006</td>\n",
       "      <td>1.315147</td>\n",
       "      <td>1.727812</td>\n",
       "      <td>1.492971</td>\n",
       "      <td>0.675517</td>\n",
       "      <td>1.213199</td>\n",
       "      <td>3.300215</td>\n",
       "      <td>4.299645</td>\n",
       "      <td>1.138763</td>\n",
       "    </tr>\n",
       "    <tr>\n",
       "      <th>...</th>\n",
       "      <th>...</th>\n",
       "      <th>...</th>\n",
       "      <td>...</td>\n",
       "      <td>...</td>\n",
       "      <td>...</td>\n",
       "      <td>...</td>\n",
       "      <td>...</td>\n",
       "      <td>...</td>\n",
       "      <td>...</td>\n",
       "      <td>...</td>\n",
       "      <td>...</td>\n",
       "      <td>...</td>\n",
       "      <td>...</td>\n",
       "      <td>...</td>\n",
       "      <td>...</td>\n",
       "      <td>...</td>\n",
       "      <td>...</td>\n",
       "    </tr>\n",
       "    <tr>\n",
       "      <th>4193003504</th>\n",
       "      <th>2009-10</th>\n",
       "      <th>Western</th>\n",
       "      <td>1.204475</td>\n",
       "      <td>1.268761</td>\n",
       "      <td>1.593419</td>\n",
       "      <td>1.208279</td>\n",
       "      <td>0.455653</td>\n",
       "      <td>3.270210</td>\n",
       "      <td>1.742723</td>\n",
       "      <td>1.279510</td>\n",
       "      <td>1.323252</td>\n",
       "      <td>1.788790</td>\n",
       "      <td>0.428938</td>\n",
       "      <td>0.682431</td>\n",
       "      <td>3.241755</td>\n",
       "      <td>4.708443</td>\n",
       "      <td>1.091887</td>\n",
       "    </tr>\n",
       "    <tr>\n",
       "      <th>4193003506</th>\n",
       "      <th>2009-10</th>\n",
       "      <th>Western</th>\n",
       "      <td>2.855179</td>\n",
       "      <td>2.739540</td>\n",
       "      <td>4.217164</td>\n",
       "      <td>3.267037</td>\n",
       "      <td>1.153567</td>\n",
       "      <td>7.526003</td>\n",
       "      <td>3.578744</td>\n",
       "      <td>3.089747</td>\n",
       "      <td>3.457587</td>\n",
       "      <td>3.971259</td>\n",
       "      <td>1.235746</td>\n",
       "      <td>2.164600</td>\n",
       "      <td>8.986093</td>\n",
       "      <td>13.146415</td>\n",
       "      <td>2.472091</td>\n",
       "    </tr>\n",
       "    <tr>\n",
       "      <th>4193003507</th>\n",
       "      <th>2009-10</th>\n",
       "      <th>Western</th>\n",
       "      <td>2.246162</td>\n",
       "      <td>2.310040</td>\n",
       "      <td>3.341205</td>\n",
       "      <td>2.508258</td>\n",
       "      <td>0.955641</td>\n",
       "      <td>5.895691</td>\n",
       "      <td>3.054334</td>\n",
       "      <td>2.412439</td>\n",
       "      <td>2.832142</td>\n",
       "      <td>3.072850</td>\n",
       "      <td>1.174561</td>\n",
       "      <td>1.479722</td>\n",
       "      <td>6.247353</td>\n",
       "      <td>10.269026</td>\n",
       "      <td>1.930446</td>\n",
       "    </tr>\n",
       "    <tr>\n",
       "      <th>4193003508</th>\n",
       "      <th>2009-10</th>\n",
       "      <th>Western</th>\n",
       "      <td>1.273026</td>\n",
       "      <td>1.237136</td>\n",
       "      <td>1.721643</td>\n",
       "      <td>1.428084</td>\n",
       "      <td>0.546347</td>\n",
       "      <td>3.412929</td>\n",
       "      <td>1.705555</td>\n",
       "      <td>1.327619</td>\n",
       "      <td>1.439775</td>\n",
       "      <td>1.910135</td>\n",
       "      <td>0.509444</td>\n",
       "      <td>0.854556</td>\n",
       "      <td>3.903705</td>\n",
       "      <td>5.913530</td>\n",
       "      <td>1.142830</td>\n",
       "    </tr>\n",
       "    <tr>\n",
       "      <th>4193003510</th>\n",
       "      <th>2009-10</th>\n",
       "      <th>Western</th>\n",
       "      <td>4.408986</td>\n",
       "      <td>4.183758</td>\n",
       "      <td>6.826409</td>\n",
       "      <td>5.258256</td>\n",
       "      <td>1.880882</td>\n",
       "      <td>12.174184</td>\n",
       "      <td>5.520447</td>\n",
       "      <td>4.825513</td>\n",
       "      <td>5.610328</td>\n",
       "      <td>6.470559</td>\n",
       "      <td>2.542708</td>\n",
       "      <td>2.590877</td>\n",
       "      <td>13.536967</td>\n",
       "      <td>25.094549</td>\n",
       "      <td>3.554086</td>\n",
       "    </tr>\n",
       "  </tbody>\n",
       "</table>\n",
       "<p>2758 rows × 15 columns</p>\n",
       "</div>"
      ],
      "text/plain": [
       "n                               Energy   Protein     Fiber    Folate  \\\n",
       "i            t       m                                                 \n",
       "1013000201   2009-10 Central  0.948354  0.953596  1.208902  1.050136   \n",
       "1013000204   2009-10 Central  1.013364  0.923990  1.297503  1.115584   \n",
       "1013000206   2009-10 Central  1.025440  1.002021  1.263760  1.180044   \n",
       "101300021302 2009-10 Central  0.943181  0.980372  1.139307  1.053558   \n",
       "1021000102   2009-10 Central  1.451331  1.314323  1.778458  1.503572   \n",
       "...                                ...       ...       ...       ...   \n",
       "4193003504   2009-10 Western  1.204475  1.268761  1.593419  1.208279   \n",
       "4193003506   2009-10 Western  2.855179  2.739540  4.217164  3.267037   \n",
       "4193003507   2009-10 Western  2.246162  2.310040  3.341205  2.508258   \n",
       "4193003508   2009-10 Western  1.273026  1.237136  1.721643  1.428084   \n",
       "4193003510   2009-10 Western  4.408986  4.183758  6.826409  5.258256   \n",
       "\n",
       "n                              Calcium  Carbohydrate      Iron    Niacin  \\\n",
       "i            t       m                                                     \n",
       "1013000201   2009-10 Central  0.436820      2.071797  1.185074  0.908719   \n",
       "1013000204   2009-10 Central  0.436215      2.329798  1.195615  0.979088   \n",
       "1013000206   2009-10 Central  0.499379      1.933427  1.159917  0.881475   \n",
       "101300021302 2009-10 Central  0.447254      1.910659  1.149515  0.872234   \n",
       "1021000102   2009-10 Central  0.623865      3.011398  1.639006  1.315147   \n",
       "...                                ...           ...       ...       ...   \n",
       "4193003504   2009-10 Western  0.455653      3.270210  1.742723  1.279510   \n",
       "4193003506   2009-10 Western  1.153567      7.526003  3.578744  3.089747   \n",
       "4193003507   2009-10 Western  0.955641      5.895691  3.054334  2.412439   \n",
       "4193003508   2009-10 Western  0.546347      3.412929  1.705555  1.327619   \n",
       "4193003510   2009-10 Western  1.880882     12.174184  5.520447  4.825513   \n",
       "\n",
       "n                             Riboflavin   Thiamin  Vitamin A  Vitamin B-12  \\\n",
       "i            t       m                                                        \n",
       "1013000201   2009-10 Central    1.207164  1.084082   0.444976      0.776891   \n",
       "1013000204   2009-10 Central    1.202776  1.177146   0.468511      0.662099   \n",
       "1013000206   2009-10 Central    1.407537  1.018507   0.629893      1.002733   \n",
       "101300021302 2009-10 Central    1.281540  1.051248   0.490588      0.955234   \n",
       "1021000102   2009-10 Central    1.727812  1.492971   0.675517      1.213199   \n",
       "...                                  ...       ...        ...           ...   \n",
       "4193003504   2009-10 Western    1.323252  1.788790   0.428938      0.682431   \n",
       "4193003506   2009-10 Western    3.457587  3.971259   1.235746      2.164600   \n",
       "4193003507   2009-10 Western    2.832142  3.072850   1.174561      1.479722   \n",
       "4193003508   2009-10 Western    1.439775  1.910135   0.509444      0.854556   \n",
       "4193003510   2009-10 Western    5.610328  6.470559   2.542708      2.590877   \n",
       "\n",
       "n                             Vitamin B-6  Vitamin C      Zinc  \n",
       "i            t       m                                          \n",
       "1013000201   2009-10 Central     2.319631   2.917228  0.818969  \n",
       "1013000204   2009-10 Central     2.592948   3.433642  0.812684  \n",
       "1013000206   2009-10 Central     2.317165   3.539164  0.818007  \n",
       "101300021302 2009-10 Central     2.209014   2.745356  0.825096  \n",
       "1021000102   2009-10 Central     3.300215   4.299645  1.138763  \n",
       "...                                   ...        ...       ...  \n",
       "4193003504   2009-10 Western     3.241755   4.708443  1.091887  \n",
       "4193003506   2009-10 Western     8.986093  13.146415  2.472091  \n",
       "4193003507   2009-10 Western     6.247353  10.269026  1.930446  \n",
       "4193003508   2009-10 Western     3.903705   5.913530  1.142830  \n",
       "4193003510   2009-10 Western    13.536967  25.094549  3.554086  \n",
       "\n",
       "[2758 rows x 15 columns]"
      ]
     },
     "execution_count": 108,
     "metadata": {},
     "output_type": "execute_result"
    }
   ],
   "source": [
    "# Match up nutrient names\n",
    "use_nutrients = nutrients.columns.intersection(hh_rdi.index.to_numpy())\n",
    "\n",
    "nutrient_ratio = (nutrients[use_nutrients]/(hh_rdi[use_nutrients]*7)).dropna()\n",
    "\n",
    "nutrient_ratio"
   ]
  },
  {
   "cell_type": "code",
   "execution_count": 110,
   "id": "ec35cf07-3be9-4c3b-8acf-dbbc2b8a653c",
   "metadata": {},
   "outputs": [
    {
     "data": {
      "image/png": "[encoded data removed]",
      "text/plain": [
       "<Figure size 640x480 with 1 Axes>"
      ]
     },
     "metadata": {},
     "output_type": "display_data"
    }
   ],
   "source": [
    "import matplotlib.pyplot as plt\n",
    "\n",
    "selected_nutrients = ['Vitamin A','Zinc', 'Energy', 'Protein', 'Vitamin C']\n",
    "nutrient_means = nutrient_ratio[nutrient_ratio[selected_nutrients] != 0][selected_nutrients].median()\n",
    "nutrient_means.plot(kind='bar')\n",
    "plt.title('Median Nutrient Ratios')\n",
    "plt.ylabel('Ratio')\n",
    "plt.xticks(rotation=45)\n",
    "plt.grid(axis='y')\n",
    "plt.tight_layout\n",
    "plt.show()"
   ]
  },
  {
   "cell_type": "markdown",
   "id": "8f25e8c5-d474-414c-9827-ed2a376a1345",
   "metadata": {},
   "source": [
    "# [B] Policy Options"
   ]
  },
  {
   "cell_type": "code",
   "execution_count": null,
   "id": "152cf77c-b210-40ae-bea2-447036e7f097",
   "metadata": {},
   "outputs": [],
   "source": []
  },
  {
   "cell_type": "markdown",
   "id": "d2ba83f3-0855-4c06-a689-54ebadd66bda",
   "metadata": {},
   "source": [
    "# [C] Policy Costs"
   ]
  },
  {
   "cell_type": "code",
   "execution_count": 55,
   "id": "c9df0b89-71a9-4c89-8ab3-aa599e8d7453",
   "metadata": {},
   "outputs": [],
   "source": [
    "import numpy as np\n",
    "\n",
    "xhat = result.predicted_expenditures()\n",
    "\n",
    "# Total food expenditures per household\n",
    "xbar = xhat.groupby(['i','t','m']).sum()\n",
    "\n",
    "# Reference budget\n",
    "x0 = xbar.quantile(0.5)  # Household at 0.5 quantile is median"
   ]
  },
  {
   "cell_type": "markdown",
   "id": "1470c34f-21e9-4311-95a2-31bf55db890a",
   "metadata": {},
   "source": [
    "#### Marshallian vs. Hicksian Demand Curves\n"
   ]
  },
  {
   "cell_type": "code",
   "execution_count": 56,
   "id": "9e2c7258-3648-42ee-bcda-9a5851789692",
   "metadata": {},
   "outputs": [
    {
     "data": {
      "text/plain": [
       "<matplotlib.legend.Legend at 0x7bc7cc762290>"
      ]
     },
     "execution_count": 56,
     "metadata": {},
     "output_type": "execute_result"
    },
    {
     "data": {
      "image/png": "[encoded data removed]",
      "text/plain": [
       "<Figure size 640x480 with 1 Axes>"
      ]
     },
     "metadata": {},
     "output_type": "display_data"
    }
   ],
   "source": [
    "import matplotlib.pyplot as plt\n",
    "%matplotlib inline\n",
    "\n",
    "my_j = 'Dodo'  # Interesting Ugandan staple\n",
    "\n",
    "P = np.geomspace(.01,10,50)*pbar[my_j]\n",
    "\n",
    "# Utility of median household, given prices\n",
    "U0 = result.indirect_utility(x0,pbar)\n",
    "\n",
    "plt.plot([result.demands(x0,my_prices(my_j,p0))[my_j] for p0 in P],P)\n",
    "plt.plot([result.demands(U0,my_prices(my_j,p0),type=\"Hicksian\")[my_j] for p0 in P],P)\n",
    "plt.ylabel('Price')\n",
    "plt.xlabel(my_j)\n",
    "plt.legend((\"Marshallian\",\"Hicksian\"))"
   ]
  },
  {
   "cell_type": "markdown",
   "id": "9a8246bf-7cc3-416f-b36e-a06c1f6c3d2e",
   "metadata": {},
   "source": [
    "#### Welfare Measures"
   ]
  },
  {
   "cell_type": "code",
   "execution_count": 57,
   "id": "4fad231f-df0b-4dd4-b061-60e6fe60d518",
   "metadata": {},
   "outputs": [],
   "source": [
    "def compensating_variation(U0,p0,p1):\n",
    "    x0 = result.expenditure(U0,p0)\n",
    "    x1 = result.expenditure(U0,p1)\n",
    "\n",
    "    return x1-x0\n",
    "\n",
    "def revenue(U0,p0,p1,type='Marshallian'):\n",
    "    \"\"\"(Un)Compensated revenue from taxes changing vector of prices from p0 to p1.\n",
    "\n",
    "    Note that this is only for *demand* side (i.e., if supply perfectly elastic).\n",
    "    \"\"\"\n",
    "    \n",
    "    dp = p1 - p0 # Change in prices\n",
    "\n",
    "    c = result.demands(U0,p1,type=type)\n",
    "\n",
    "    dp,c = dp.align(c,join='inner')\n",
    "\n",
    "    return dp.T@c\n",
    "\n",
    "\n",
    "def deadweight_loss(U0,p0,p1):\n",
    "    \"\"\"\n",
    "    Deadweight loss of tax/subsidy scheme creating wedge in prices from p0 to p1.\n",
    "\n",
    "    Note that this is only for *demand* side (i.e., if supply perfectly elastic).\n",
    "    \"\"\"\n",
    "    cv = compensating_variation(U0,p0,p1)\n",
    "\n",
    "    return cv - revenue(U0,p0,p1,type='Hicksian')"
   ]
  },
  {
   "cell_type": "markdown",
   "id": "e3bdc182-ecb1-45d9-9c72-0d0e5f9a7369",
   "metadata": {},
   "source": [
    "#### Price Changes, Revenue, and Compensating Variation\n",
    "\n"
   ]
  },
  {
   "cell_type": "code",
   "execution_count": 58,
   "id": "6b067965-388c-47ac-99f3-0eed72b75d83",
   "metadata": {},
   "outputs": [
    {
     "data": {
      "text/plain": [
       "<matplotlib.lines.Line2D at 0x7bc7cc8e2610>"
      ]
     },
     "execution_count": 58,
     "metadata": {},
     "output_type": "execute_result"
    },
    {
     "data": {
      "image/png": "[encoded data removed]",
      "text/plain": [
       "<Figure size 640x480 with 1 Axes>"
      ]
     },
     "metadata": {},
     "output_type": "display_data"
    }
   ],
   "source": [
    "fig, ax1 = plt.subplots()\n",
    "\n",
    "ax1.plot(P,[compensating_variation(U0,pbar,my_prices(my_j,p0)) for p0 in P])\n",
    "ax1.set_xlabel(f\"Price of {my_j}\")\n",
    "ax1.set_ylabel(\"Compensating Variation\")\n",
    "\n",
    "ax1.plot(P,[revenue(U0,pbar,my_prices(my_j,p0),type='Hicksian') for p0 in P],'k')\n",
    "ax1.legend(('Compensating Variation','Revenue'))\n",
    "ax1.axhline(0)\n",
    "ax1.axvline(pbar.loc[my_j])"
   ]
  },
  {
   "cell_type": "markdown",
   "id": "cae6d87f-9184-4246-b880-ba5ef6f5d147",
   "metadata": {},
   "source": [
    "#### Deadweight Loss\n"
   ]
  },
  {
   "cell_type": "code",
   "execution_count": 59,
   "id": "02045216-2b85-4008-af85-030530552a37",
   "metadata": {},
   "outputs": [
    {
     "data": {
      "text/plain": [
       "Text(0, 0.5, 'Deadweight Loss')"
      ]
     },
     "execution_count": 59,
     "metadata": {},
     "output_type": "execute_result"
    },
    {
     "data": {
      "image/png": "[encoded data removed]",
      "text/plain": [
       "<Figure size 640x480 with 1 Axes>"
      ]
     },
     "metadata": {},
     "output_type": "display_data"
    }
   ],
   "source": [
    "fig, ax1 = plt.subplots()\n",
    "\n",
    "ax1.plot(P,[deadweight_loss(U0,pbar,my_prices(my_j,p0)) for p0 in P])\n",
    "ax1.set_xlabel(\"Price of %s\" % my_j)\n",
    "ax1.set_ylabel(\"Deadweight Loss\")"
   ]
  },
  {
   "cell_type": "code",
   "execution_count": null,
   "id": "f7ecd4e0-1f9f-4272-8588-e7595816d816",
   "metadata": {},
   "outputs": [],
   "source": []
  },
  {
   "cell_type": "markdown",
   "id": "219aca7a-19a6-4fe2-ae42-ce46ef98add6",
   "metadata": {},
   "source": [
    "# [C] Value of Technical Innovation"
   ]
  },
  {
   "cell_type": "code",
   "execution_count": null,
   "id": "92b996f1-f4e2-4c2a-a5c1-76acdecc9a37",
   "metadata": {},
   "outputs": [],
   "source": []
  }
 ],
 "metadata": {
  "kernelspec": {
   "display_name": "Python 3 (ipykernel)",
   "language": "python",
   "name": "python3"
  },
  "language_info": {
   "codemirror_mode": {
    "name": "ipython",
    "version": 3
   },
   "file_extension": ".py",
   "mimetype": "text/x-python",
   "name": "python",
   "nbconvert_exporter": "python",
   "pygments_lexer": "ipython3",
   "version": "3.11.11"
  }
 },
 "nbformat": 4,
 "nbformat_minor": 5
}
