{
 "cells": [
  {
   "cell_type": "markdown",
   "id": "2949d85f-1636-44fa-8f7d-0a705d3a5b1d",
   "metadata": {},
   "source": [
    "# **Project 3: Team Norman Borlaug**"
   ]
  },
  {
   "cell_type": "markdown",
   "id": "b5779422-341b-45cf-bffa-cd5d0b88978c",
   "metadata": {},
   "source": [
    "## **2009-10** File"
   ]
  },
  {
   "cell_type": "markdown",
   "id": "fd94011a-8fca-4bdd-a2c0-c6de04909bdc",
   "metadata": {},
   "source": [
    "#### Group Members:\n",
    "> Mary  -  marylaska@berkeley.edu <br>\n",
    "> Jack - jackpollard@berkeley.edu<br>\n",
    "> Jocelyn - jocelynvelazquez@berkeley.edu <br>\n",
    "> Vivian - yumeng.zhang0502@berkeley.edu <br>\n",
    "> Steven -  k1519632@berkeley.edu <br>\n"
   ]
  },
  {
   "cell_type": "code",
   "execution_count": null,
   "id": "930b2859-6e7b-4847-b7f2-1982576c0c84",
   "metadata": {},
   "outputs": [],
   "source": []
  }
 ],
 "metadata": {
  "kernelspec": {
   "display_name": "Python 3 (ipykernel)",
   "language": "python",
   "name": "python3"
  },
  "language_info": {
   "codemirror_mode": {
    "name": "ipython",
    "version": 3
   },
   "file_extension": ".py",
   "mimetype": "text/x-python",
   "name": "python",
   "nbconvert_exporter": "python",
   "pygments_lexer": "ipython3",
   "version": "3.11.11"
  }
 },
 "nbformat": 4,
 "nbformat_minor": 5
}
